{
  "nbformat": 4,
  "nbformat_minor": 0,
  "metadata": {
    "colab": {
      "name": "Python_Exercise_3.ipynb",
      "private_outputs": true,
      "provenance": [],
      "authorship_tag": "ABX9TyP56g8MSzFU6hHmbV4Yq/VR",
      "include_colab_link": true
    },
    "kernelspec": {
      "name": "python3",
      "display_name": "Python 3"
    },
    "language_info": {
      "name": "python"
    }
  },
  "cells": [
    {
      "cell_type": "markdown",
      "metadata": {
        "id": "view-in-github",
        "colab_type": "text"
      },
      "source": [
        "<a href=\"https://colab.research.google.com/github/Jalen18/Numerical-Methods/blob/main/Python_Exercise_3.ipynb\" target=\"_parent\"><img src=\"https://colab.research.google.com/assets/colab-badge.svg\" alt=\"Open In Colab\"/></a>"
      ]
    },
    {
      "cell_type": "markdown",
      "metadata": {
        "id": "F1_WDCU5cIcm"
      },
      "source": [
        "#Determinants of Matrix using numpy.linalg.det"
      ]
    },
    {
      "cell_type": "code",
      "metadata": {
        "id": "SLD0ntSDcHce"
      },
      "source": [
        "import numpy as np\n",
        "A = np.array ([[1,2,-1],[4,6,-2],[-1,3,3]])\n",
        "print (A)\n",
        "print (np.linalg.det(A))\n",
        "print (round (np.linalg.det(A)))"
      ],
      "execution_count": null,
      "outputs": []
    }
  ]
}