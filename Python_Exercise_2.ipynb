{
  "nbformat": 4,
  "nbformat_minor": 0,
  "metadata": {
    "colab": {
      "name": "Python Exercise 2.ipynb",
      "private_outputs": true,
      "provenance": [],
      "authorship_tag": "ABX9TyOOqj6svA5UXBxAmCRz69Qv",
      "include_colab_link": true
    },
    "kernelspec": {
      "name": "python3",
      "display_name": "Python 3"
    },
    "language_info": {
      "name": "python"
    }
  },
  "cells": [
    {
      "cell_type": "markdown",
      "metadata": {
        "id": "view-in-github",
        "colab_type": "text"
      },
      "source": [
        "<a href=\"https://colab.research.google.com/github/Jalen18/Numerical-Methods/blob/main/Python_Exercise_2.ipynb\" target=\"_parent\"><img src=\"https://colab.research.google.com/assets/colab-badge.svg\" alt=\"Open In Colab\"/></a>"
      ]
    },
    {
      "cell_type": "markdown",
      "metadata": {
        "id": "2yve_tvBiTxP"
      },
      "source": [
        "##Matrix and Its Operations"
      ]
    },
    {
      "cell_type": "code",
      "metadata": {
        "id": "AsDPzMmfcwep"
      },
      "source": [
        "import numpy as np\n",
        "A = np.array([[-5,0],[4,1]])\n",
        "B = np.array([[6,-3],[2,3]])"
      ],
      "execution_count": null,
      "outputs": []
    },
    {
      "cell_type": "markdown",
      "metadata": {
        "id": "mcNKXzsPeOs0"
      },
      "source": [
        "##1.) sum A + B"
      ]
    },
    {
      "cell_type": "code",
      "metadata": {
        "id": "wnGpQAmudxno"
      },
      "source": [
        "print (A+B)\n",
        "\n"
      ],
      "execution_count": null,
      "outputs": []
    },
    {
      "cell_type": "markdown",
      "metadata": {
        "id": "vcbCd72KfYkZ"
      },
      "source": [
        "## 2.) difference1 = B - A"
      ]
    },
    {
      "cell_type": "code",
      "metadata": {
        "id": "3i4k2QhqegdK"
      },
      "source": [
        "print (B-A)"
      ],
      "execution_count": null,
      "outputs": []
    },
    {
      "cell_type": "markdown",
      "metadata": {
        "id": "8xvZU6z2ftm4"
      },
      "source": [
        "##3.) difference2 = A - B"
      ]
    },
    {
      "cell_type": "code",
      "metadata": {
        "id": "C9Y2PsN7fmeJ"
      },
      "source": [
        "print (A-B)"
      ],
      "execution_count": null,
      "outputs": []
    }
  ]
}