{
  "nbformat": 4,
  "nbformat_minor": 0,
  "metadata": {
    "colab": {
      "name": "Prelim Exam.ipynb",
      "private_outputs": true,
      "provenance": [],
      "authorship_tag": "ABX9TyMchxI5vWECQEGxHYuxytfO",
      "include_colab_link": true
    },
    "kernelspec": {
      "name": "python3",
      "display_name": "Python 3"
    },
    "language_info": {
      "name": "python"
    }
  },
  "cells": [
    {
      "cell_type": "markdown",
      "metadata": {
        "id": "view-in-github",
        "colab_type": "text"
      },
      "source": [
        "<a href=\"https://colab.research.google.com/github/Jalen18/Numerical-Methods/blob/main/Prelim_Exam.ipynb\" target=\"_parent\"><img src=\"https://colab.research.google.com/assets/colab-badge.svg\" alt=\"Open In Colab\"/></a>"
      ]
    },
    {
      "cell_type": "markdown",
      "metadata": {
        "id": "OgnNzpl6P7HG"
      },
      "source": [
        "#Prelim Exam"
      ]
    },
    {
      "cell_type": "code",
      "metadata": {
        "id": "j6OmqyMcO87C"
      },
      "source": [
        "import numpy as np\n",
        "A = np.array ([[1,2,3],[2,3,3],[3,4,-2]])\n",
        "print (A)\n",
        "print (np.linalg.det(A))\n",
        "print (round (np.linalg.det(A)))"
      ],
      "execution_count": null,
      "outputs": []
    },
    {
      "cell_type": "code",
      "metadata": {
        "id": "H8aiSjorSEN2"
      },
      "source": [
        ""
      ],
      "execution_count": null,
      "outputs": []
    }
  ]
}